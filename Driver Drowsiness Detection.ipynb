{
 "cells": [
  {
   "cell_type": "code",
   "execution_count": 6,
   "id": "7712601c",
   "metadata": {},
   "outputs": [],
   "source": [
    "import os\n",
    "import shutil\n",
    "import random\n",
    "import glob\n",
    "from tqdm import tqdm\n",
    "\n"
   ]
  },
  {
   "cell_type": "markdown",
   "id": "450306ec",
   "metadata": {},
   "source": [
    "subject ID: xxx\n",
    "\n",
    "image number: xxx\n",
    "\n",
    "gender: 0 - male 1 - famale\n",
    "\n",
    "glasses: 0 - no 1 - yes\n",
    "\n",
    "eye state: 0 - close 1 - open\n",
    "\n",
    "reflections: 0 - none 1 - low 2 - high\n",
    "\n",
    "lighting conditions/image quality: 0 - bad 1 - good\n",
    "\n",
    "sensor type: 01 - RealSense SR300 640x480 02 - IDS Imaging, 1280x1024 03 - Aptina Imagin 752x480\n",
    "\n",
    "example: s001_00123_0_0_0_0_0_01.png"
   ]
  },
  {
   "cell_type": "code",
   "execution_count": 2,
   "id": "8b4afbf4",
   "metadata": {},
   "outputs": [
    {
     "name": "stderr",
     "output_type": "stream",
     "text": [
      "0it [00:00, ?it/s]\n",
      "100%|██████████| 3242/3242 [02:35<00:00, 20.80it/s]\n",
      "100%|██████████| 1114/1114 [00:50<00:00, 22.08it/s]\n",
      "100%|██████████| 679/679 [00:39<00:00, 17.17it/s]\n",
      "100%|██████████| 1069/1069 [00:47<00:00, 22.60it/s]\n",
      "100%|██████████| 736/736 [00:48<00:00, 15.23it/s]\n",
      "100%|██████████| 1012/1012 [00:43<00:00, 23.48it/s]\n",
      "100%|██████████| 624/624 [00:26<00:00, 23.32it/s]\n",
      "100%|██████████| 832/832 [00:29<00:00, 27.98it/s]\n",
      "100%|██████████| 387/387 [00:12<00:00, 29.98it/s]\n",
      "100%|██████████| 399/399 [00:12<00:00, 31.40it/s]\n",
      "100%|██████████| 1648/1648 [01:16<00:00, 21.48it/s]\n",
      "100%|██████████| 8728/8728 [05:30<00:00, 26.39it/s]\n",
      "100%|██████████| 3605/3605 [02:25<00:00, 24.81it/s]\n",
      "100%|██████████| 8884/8884 [15:38<00:00,  9.47it/s]  \n",
      "100%|██████████| 1132/1132 [01:09<00:00, 16.29it/s]\n",
      "100%|██████████| 1889/1889 [02:22<00:00, 13.26it/s]\n",
      "100%|██████████| 1648/1648 [01:25<00:00, 19.38it/s]\n",
      "100%|██████████| 4410/4410 [03:15<00:00, 22.61it/s]\n",
      "100%|██████████| 6175/6175 [03:30<00:00, 29.38it/s]\n",
      "100%|██████████| 704/704 [00:18<00:00, 38.65it/s]\n",
      "100%|██████████| 987/987 [00:33<00:00, 29.87it/s]\n",
      "100%|██████████| 382/382 [00:14<00:00, 26.21it/s]\n",
      "100%|██████████| 522/522 [00:16<00:00, 30.85it/s]\n",
      "100%|██████████| 752/752 [00:21<00:00, 34.98it/s]\n",
      "100%|██████████| 1502/1502 [01:14<00:00, 20.12it/s]\n",
      "100%|██████████| 1246/1246 [1:46:50<00:00,  5.14s/it]    \n",
      "100%|██████████| 665/665 [00:24<00:00, 26.70it/s]\n",
      "100%|██████████| 736/736 [00:29<00:00, 24.66it/s]\n",
      "100%|██████████| 1393/1393 [01:19<00:00, 17.55it/s]\n",
      "100%|██████████| 1384/1384 [01:53<00:00, 12.17it/s]\n",
      "100%|██████████| 1738/1738 [01:43<00:00, 16.77it/s]\n",
      "100%|██████████| 6162/6162 [10:57<00:00,  9.36it/s] \n",
      "100%|██████████| 681/681 [00:50<00:00, 13.51it/s]\n",
      "100%|██████████| 739/739 [01:15<00:00,  9.76it/s]\n",
      "100%|██████████| 642/642 [00:34<00:00, 18.56it/s]\n",
      "100%|██████████| 6193/6193 [05:48<00:00, 17.76it/s]\n",
      "100%|██████████| 10257/10257 [08:57<00:00, 19.08it/s] \n"
     ]
    }
   ],
   "source": [
    "Raw_DIR= r'C:\\projects\\Deep Learning\\DriverDetection dataset\\mrlEyes_2018_01'\n",
    "for dirpath, dirname, filenames in os.walk(Raw_DIR):\n",
    "    for i in tqdm([f for f in filenames if f.endswith('.png')]):\n",
    "        if i.split('_')[4]=='0':\n",
    "            shutil.copy(src=dirpath+'/'+i, dst=r'C:\\projects\\Deep Learning\\DriverDetection dataset\\Train Data\\Closed eyes')\n",
    "        \n",
    "        elif i.split('_')[4]=='1':\n",
    "            shutil.copy(src=dirpath+'/'+i, dst=r'C:\\projects\\Deep Learning\\DriverDetection dataset\\Train Data\\Open Eyes')"
   ]
  },
  {
   "cell_type": "code",
   "execution_count": 7,
   "id": "dab32728",
   "metadata": {},
   "outputs": [],
   "source": [
    "def create_test_closed(source, destination, percent):\n",
    "    '''\n",
    "    divides closed eyes images into given percent and moves from\n",
    "    source to destination.\n",
    "    \n",
    "    Arguments:\n",
    "    source(path): path of source directory\n",
    "    destination(path): path of destination directory\n",
    "    percent(float): percent of data to be divided(range: 0 to 1)\n",
    "    '''\n",
    "    path, dirs, files_closed = next(os.walk(source))\n",
    "    file_count_closed = len(files_closed)\n",
    "    percentage = file_count_closed * percent\n",
    "    to_move = random.sample(glob.glob(source + \"/*.png\"), int(percentage))\n",
    "\n",
    "    for f in enumerate(to_move):\n",
    "        if not os.path.exists(destination):\n",
    "            os.makedirs(destination)\n",
    "        shutil.move(f[1], destination)\n",
    "    print(f'moved {int(percentage)} images to the destination successfully.') "
   ]
  },
  {
   "cell_type": "code",
   "execution_count": 8,
   "id": "143faf9e",
   "metadata": {},
   "outputs": [],
   "source": [
    "def create_test_open(source, destination, percent):\n",
    "    '''\n",
    "    divides open eyes images into given percent and moves from\n",
    "    source to destination.\n",
    "    \n",
    "    Arguments:\n",
    "    source(path): path of source directory\n",
    "    destination(path): path of destination directory\n",
    "    percent(float): percent of data to be divided(range: 0 to 1)\n",
    "    '''\n",
    "    path, dirs, files_open = next(os.walk(source))\n",
    "    file_count_open = len(files_open)\n",
    "    percentage = file_count_open * percent\n",
    "    to_move = random.sample(glob.glob(source + \"/*.png\"), int(percentage))\n",
    "\n",
    "    for f in enumerate(to_move):\n",
    "        if not os.path.exists(destination):\n",
    "            os.makedirs(destination)\n",
    "        shutil.move(f[1], destination)\n",
    "    print(f'moved {int(percentage)} images to the destination successfully.')"
   ]
  },
  {
   "cell_type": "code",
   "execution_count": null,
   "id": "4b910f45",
   "metadata": {},
   "outputs": [],
   "source": [
    "create_test_closed(r'C:\\projects\\Deep Learning\\DriverDetection dataset\\Train Data\\Closed eyes', \n",
    "                    r'C:\\projects\\Deep Learning\\DriverDetection dataset\\test data\\Closed Eyes', \n",
    "                    0.2)"
   ]
  },
  {
   "cell_type": "code",
   "execution_count": null,
   "id": "b806ee87",
   "metadata": {},
   "outputs": [],
   "source": [
    "create_test_open(r'C:\\projects\\Deep Learning\\DriverDetection dataset\\Train Data\\Open Eyes', \n",
    "                    r'C:\\projects\\Deep Learning\\DriverDetection dataset\\test data\\Open Eyes', \n",
    "                    0.2)"
   ]
  },
  {
   "cell_type": "code",
   "execution_count": 1,
   "id": "8f85f68d",
   "metadata": {},
   "outputs": [],
   "source": [
    "import tensorflow as tf\n",
    "from tensorflow.keras.models import Model\n",
    "from tensorflow.keras.layers import  Conv2D, Dropout,Input,Flatten,Dense,MaxPooling2D\n",
    "from tensorflow.keras.preprocessing.image import ImageDataGenerator  # Data Augumentation"
   ]
  },
  {
   "cell_type": "code",
   "execution_count": 2,
   "id": "38ec648d",
   "metadata": {},
   "outputs": [],
   "source": [
    "batchsize=8"
   ]
  },
  {
   "cell_type": "markdown",
   "id": "abeb65f4",
   "metadata": {},
   "source": [
    "# Image Normalisation/ Image Augumentation"
   ]
  },
  {
   "cell_type": "code",
   "execution_count": 3,
   "id": "5b73aaf0",
   "metadata": {},
   "outputs": [
    {
     "name": "stdout",
     "output_type": "stream",
     "text": [
      "Found 54336 images belonging to 2 classes.\n",
      "Found 13583 images belonging to 2 classes.\n"
     ]
    }
   ],
   "source": [
    "train_datagen= ImageDataGenerator(rescale=1./255, rotation_range=0.2,shear_range=0.2,\n",
    "    zoom_range=0.2,width_shift_range=0.2,\n",
    "    height_shift_range=0.2, validation_split=0.2)\n",
    "\n",
    "train_data= train_datagen.flow_from_directory(r'C:\\projects\\Deep Learning\\DriverDetection dataset\\Train Data',\n",
    "                                target_size=(80,80),batch_size=batchsize,class_mode='categorical',subset='training' )\n",
    "\n",
    "validation_data= train_datagen.flow_from_directory(r'C:\\projects\\Deep Learning\\DriverDetection dataset\\Train Data',\n",
    "                                target_size=(80,80),batch_size=batchsize,class_mode='categorical', subset='validation')"
   ]
  },
  {
   "cell_type": "code",
   "execution_count": 5,
   "id": "8ec4abcd",
   "metadata": {},
   "outputs": [
    {
     "name": "stdout",
     "output_type": "stream",
     "text": [
      "Found 16979 images belonging to 2 classes.\n"
     ]
    }
   ],
   "source": [
    "test_datagen = ImageDataGenerator(rescale=1./255)\n",
    "\n",
    "test_data = test_datagen.flow_from_directory(r'C:\\projects\\Deep Learning\\DriverDetection dataset\\test data',\n",
    "                                target_size=(80,80),batch_size=batchsize,class_mode='categorical')"
   ]
  },
  {
   "cell_type": "markdown",
   "id": "3c936000",
   "metadata": {},
   "source": [
    "# Model Training"
   ]
  },
  {
   "cell_type": "code",
   "execution_count": 8,
   "id": "84eae687",
   "metadata": {},
   "outputs": [],
   "source": [
    "import tensorflow as tf\n",
    "from tensorflow.keras.models import Model\n",
    "from tensorflow.keras.models import load_model\n",
    "from tensorflow.keras.layers import  Conv2D, Dropout,Input,Flatten,Dense,MaxPooling2D\n",
    "from tensorflow.keras.preprocessing.image import ImageDataGenerator  # Data Augumentation"
   ]
  },
  {
   "cell_type": "code",
   "execution_count": 6,
   "id": "7f8d9989",
   "metadata": {},
   "outputs": [],
   "source": [
    "#Initalising the CNN\n",
    "cnn=tf.keras.models.Sequential()\n",
    "\n",
    "cnn.add(tf.keras.layers.Conv2D(filters=256,padding=\"same\",kernel_size=3,activation='relu',input_shape=[80,80,3]))\n",
    "cnn.add(tf.keras.layers.MaxPool2D(pool_size=2))\n",
    "cnn.add(tf.keras.layers.Conv2D(filters=128,padding=\"same\",kernel_size=3,activation='relu'))\n",
    "cnn.add(tf.keras.layers.MaxPool2D(pool_size=2))\n",
    "cnn.add(tf.keras.layers.Conv2D(filters=64,padding=\"same\",kernel_size=3,activation='relu'))\n",
    "cnn.add(tf.keras.layers.MaxPool2D(pool_size=2))\n",
    "cnn.add(tf.keras.layers.Conv2D(filters=32,padding=\"same\",kernel_size=3,activation='relu'))\n",
    "cnn.add(tf.keras.layers.MaxPool2D(pool_size=2))\n",
    "\n",
    "cnn.add(tf.keras.layers.Flatten())\n",
    "\n",
    "cnn.add(tf.keras.layers.Dense(units=64,activation='relu'))\n",
    "cnn.add(tf.keras.layers.Dense(units=2,activation='softmax'))"
   ]
  },
  {
   "cell_type": "code",
   "execution_count": 7,
   "id": "fae0820e",
   "metadata": {},
   "outputs": [
    {
     "name": "stdout",
     "output_type": "stream",
     "text": [
      "Model: \"sequential\"\n",
      "_________________________________________________________________\n",
      "Layer (type)                 Output Shape              Param #   \n",
      "=================================================================\n",
      "conv2d (Conv2D)              (None, 80, 80, 256)       7168      \n",
      "_________________________________________________________________\n",
      "max_pooling2d (MaxPooling2D) (None, 40, 40, 256)       0         \n",
      "_________________________________________________________________\n",
      "conv2d_1 (Conv2D)            (None, 40, 40, 128)       295040    \n",
      "_________________________________________________________________\n",
      "max_pooling2d_1 (MaxPooling2 (None, 20, 20, 128)       0         \n",
      "_________________________________________________________________\n",
      "conv2d_2 (Conv2D)            (None, 20, 20, 64)        73792     \n",
      "_________________________________________________________________\n",
      "max_pooling2d_2 (MaxPooling2 (None, 10, 10, 64)        0         \n",
      "_________________________________________________________________\n",
      "conv2d_3 (Conv2D)            (None, 10, 10, 32)        18464     \n",
      "_________________________________________________________________\n",
      "max_pooling2d_3 (MaxPooling2 (None, 5, 5, 32)          0         \n",
      "_________________________________________________________________\n",
      "flatten (Flatten)            (None, 800)               0         \n",
      "_________________________________________________________________\n",
      "dense (Dense)                (None, 64)                51264     \n",
      "_________________________________________________________________\n",
      "dense_1 (Dense)              (None, 2)                 130       \n",
      "=================================================================\n",
      "Total params: 445,858\n",
      "Trainable params: 445,858\n",
      "Non-trainable params: 0\n",
      "_________________________________________________________________\n"
     ]
    }
   ],
   "source": [
    "cnn.summary()"
   ]
  },
  {
   "cell_type": "markdown",
   "id": "6fb9ec45",
   "metadata": {},
   "source": [
    "# Resource Optimization"
   ]
  },
  {
   "cell_type": "code",
   "execution_count": 8,
   "id": "cda0a36c",
   "metadata": {},
   "outputs": [],
   "source": [
    "from tensorflow.keras.callbacks import ModelCheckpoint,EarlyStopping, ReduceLROnPlateau"
   ]
  },
  {
   "cell_type": "code",
   "execution_count": 9,
   "id": "6b8896d3",
   "metadata": {},
   "outputs": [],
   "source": [
    "checkpoint = ModelCheckpoint(r'C:\\projects\\Deep Learning\\DriverDetection dataset\\ModelBuild\\model.h5',\n",
    "                            monitor='val_loss',save_best_only=True,verbose=3)\n",
    "\n",
    "earlystop = EarlyStopping(monitor = 'val_loss', patience=7, verbose= 3, restore_best_weights=True)\n",
    "\n",
    "learning_rate = ReduceLROnPlateau(monitor= 'val_loss', patience=3, verbose= 3, )\n",
    "\n",
    "callbacks=[checkpoint,earlystop,learning_rate]"
   ]
  },
  {
   "cell_type": "code",
   "execution_count": null,
   "id": "d6d4aea2",
   "metadata": {},
   "outputs": [
    {
     "name": "stdout",
     "output_type": "stream",
     "text": [
      "Epoch 1/10\n",
      "6792/6792 [==============================] - ETA: 0s - loss: 0.3307 - accuracy: 0.8474\n",
      "Epoch 00001: val_loss improved from inf to 0.40810, saving model to C:\\projects\\Deep Learning\\DriverDetection dataset\\ModelBuild\\model.h5\n",
      "6792/6792 [==============================] - 6721s 990ms/step - loss: 0.3307 - accuracy: 0.8474 - val_loss: 0.4081 - val_accuracy: 0.8494\n",
      "Epoch 2/10\n",
      "6792/6792 [==============================] - ETA: 0s - loss: 0.1334 - accuracy: 0.9512\n",
      "Epoch 00002: val_loss improved from 0.40810 to 0.34647, saving model to C:\\projects\\Deep Learning\\DriverDetection dataset\\ModelBuild\\model.h5\n",
      "6792/6792 [==============================] - 13619s 2s/step - loss: 0.1334 - accuracy: 0.9512 - val_loss: 0.3465 - val_accuracy: 0.8618\n",
      "Epoch 3/10\n",
      "6792/6792 [==============================] - ETA: 0s - loss: 0.1025 - accuracy: 0.9633\n",
      "Epoch 00003: val_loss improved from 0.34647 to 0.21852, saving model to C:\\projects\\Deep Learning\\DriverDetection dataset\\ModelBuild\\model.h5\n",
      "6792/6792 [==============================] - 18100s 3s/step - loss: 0.1025 - accuracy: 0.9633 - val_loss: 0.2185 - val_accuracy: 0.9180\n",
      "Epoch 4/10\n",
      "6792/6792 [==============================] - ETA: 0s - loss: 0.0914 - accuracy: 0.9674\n",
      "Epoch 00004: val_loss improved from 0.21852 to 0.18709, saving model to C:\\projects\\Deep Learning\\DriverDetection dataset\\ModelBuild\\model.h5\n",
      "6792/6792 [==============================] - 5551s 817ms/step - loss: 0.0914 - accuracy: 0.9674 - val_loss: 0.1871 - val_accuracy: 0.9285\n",
      "Epoch 5/10\n",
      "3412/6792 [==============>...............] - ETA: 45:10 - loss: 0.0816 - accuracy: 0.9715"
     ]
    }
   ],
   "source": [
    "cnn.compile(optimizer='Adam', loss='categorical_crossentropy',metrics=['accuracy'])\n",
    "\n",
    "history=cnn.fit_generator(train_data,steps_per_epoch=train_data.samples//batchsize,\n",
    "                   validation_data=validation_data,\n",
    "                   validation_steps=validation_data.samples//batchsize,\n",
    "                   callbacks=callbacks,\n",
    "                    epochs=10)"
   ]
  },
  {
   "cell_type": "code",
   "execution_count": null,
   "id": "f88151f0",
   "metadata": {},
   "outputs": [],
   "source": []
  },
  {
   "cell_type": "markdown",
   "id": "402052c3",
   "metadata": {},
   "source": [
    "A Look at an example of closedEye image"
   ]
  },
  {
   "cell_type": "code",
   "execution_count": 1,
   "id": "ee4f0c61",
   "metadata": {},
   "outputs": [],
   "source": [
    "import cv2\n",
    "import matplotlib.pyplot as plt\n",
    "import numpy as np\n",
    "from array import array"
   ]
  },
  {
   "cell_type": "code",
   "execution_count": 2,
   "id": "9ec8cbec",
   "metadata": {},
   "outputs": [],
   "source": [
    "img_array =cv2.imread(r'C:\\projects\\Deep Learning\\DriverDetection dataset\\test data\\Closed Eyes\\s0001_00014_0_0_0_0_0_01.png',cv2.IMREAD_GRAYSCALE)\n"
   ]
  },
  {
   "cell_type": "code",
   "execution_count": 3,
   "id": "732adc0d",
   "metadata": {},
   "outputs": [
    {
     "data": {
      "text/plain": [
       "<matplotlib.image.AxesImage at 0x14e515b8940>"
      ]
     },
     "execution_count": 3,
     "metadata": {},
     "output_type": "execute_result"
    },
    {
     "data": {
      "image/png": "[encoded data removed]",
      "text/plain": [
       "<Figure size 640x480 with 1 Axes>"
      ]
     },
     "metadata": {},
     "output_type": "display_data"
    }
   ],
   "source": [
    "plt.imshow(img_array,cmap=\"gray\")"
   ]
  },
  {
   "cell_type": "markdown",
   "id": "d78cbec4",
   "metadata": {},
   "source": [
    "Resizing image"
   ]
  },
  {
   "cell_type": "code",
   "execution_count": 4,
   "id": "054f3d3a",
   "metadata": {},
   "outputs": [],
   "source": [
    "backtorgb= cv2.cvtColor(img_array,cv2.COLOR_GRAY2RGB)\n",
    "new_array=cv2.resize(backtorgb,(80,80))"
   ]
  },
  {
   "cell_type": "code",
   "execution_count": 5,
   "id": "b7cf5947",
   "metadata": {},
   "outputs": [],
   "source": [
    "x_input=np.array(new_array).reshape(1,80,80,3)"
   ]
  },
  {
   "cell_type": "code",
   "execution_count": 6,
   "id": "389f7079",
   "metadata": {},
   "outputs": [
    {
     "data": {
      "text/plain": [
       "(1, 80, 80, 3)"
      ]
     },
     "execution_count": 6,
     "metadata": {},
     "output_type": "execute_result"
    }
   ],
   "source": [
    "x_input.shape"
   ]
  },
  {
   "cell_type": "code",
   "execution_count": 7,
   "id": "18acadbe",
   "metadata": {},
   "outputs": [],
   "source": [
    "x_input = x_input/255.0"
   ]
  },
  {
   "cell_type": "markdown",
   "id": "ac9aebd7",
   "metadata": {},
   "source": [
    "# Loading Model"
   ]
  },
  {
   "cell_type": "code",
   "execution_count": 43,
   "id": "49b52b3d",
   "metadata": {},
   "outputs": [],
   "source": [
    "model = load_model(r'C:\\projects\\Deep Learning\\DriverDetection dataset\\modelBuild\\model.h5')"
   ]
  },
  {
   "cell_type": "markdown",
   "id": "d0eae9d1",
   "metadata": {},
   "source": [
    "# Model Prediction"
   ]
  },
  {
   "cell_type": "code",
   "execution_count": 11,
   "id": "e1bdc912",
   "metadata": {},
   "outputs": [],
   "source": [
    "prediction = model.predict(x_input)"
   ]
  },
  {
   "cell_type": "code",
   "execution_count": 12,
   "id": "4377620e",
   "metadata": {},
   "outputs": [
    {
     "data": {
      "text/plain": [
       "array([[9.9940646e-01, 5.9351348e-04]], dtype=float32)"
      ]
     },
     "execution_count": 12,
     "metadata": {},
     "output_type": "execute_result"
    }
   ],
   "source": [
    "prediction"
   ]
  },
  {
   "cell_type": "markdown",
   "id": "cbcab0cf",
   "metadata": {},
   "source": [
    "SINCE WE USED SOFTMAX AS THE ACTIVATION FUNCTION, CLOOSED EYES HAS THE HIGHEST PROBABILITY. "
   ]
  },
  {
   "cell_type": "code",
   "execution_count": 57,
   "id": "0223bded",
   "metadata": {},
   "outputs": [],
   "source": [
    "img=cv2.imread(r'C:\\projects\\Deep Learning\\DriverDetection dataset\\test data\\Open Eyes\\s0001_01859_0_0_1_0_0_01.png',cv2.IMREAD_GRAYSCALE)\n"
   ]
  },
  {
   "cell_type": "code",
   "execution_count": 58,
   "id": "e3da0672",
   "metadata": {},
   "outputs": [
    {
     "data": {
      "text/plain": [
       "<matplotlib.image.AxesImage at 0x14e60d74bb0>"
      ]
     },
     "execution_count": 58,
     "metadata": {},
     "output_type": "execute_result"
    },
    {
     "data": {
      "image/png": "[encoded data removed]",
      "text/plain": [
       "<Figure size 640x480 with 1 Axes>"
      ]
     },
     "metadata": {},
     "output_type": "display_data"
    }
   ],
   "source": [
    "plt.imshow(img,cmap=\"gray\")"
   ]
  },
  {
   "cell_type": "code",
   "execution_count": 59,
   "id": "2dc01341",
   "metadata": {},
   "outputs": [],
   "source": [
    "backtorgb2= cv2.cvtColor(img,cv2.COLOR_GRAY2RGB)\n",
    "new_img=cv2.resize(backtorgb2,(80,80))"
   ]
  },
  {
   "cell_type": "code",
   "execution_count": 60,
   "id": "9867cf75",
   "metadata": {},
   "outputs": [],
   "source": [
    "new_img=np.array(new_img).reshape(1,80,80,3)"
   ]
  },
  {
   "cell_type": "code",
   "execution_count": 61,
   "id": "0cbd9780",
   "metadata": {},
   "outputs": [],
   "source": [
    "x_input2 = new_img/255.0"
   ]
  },
  {
   "cell_type": "code",
   "execution_count": 62,
   "id": "741317f9",
   "metadata": {},
   "outputs": [
    {
     "data": {
      "text/plain": [
       "array([[0.00787103, 0.99212897]], dtype=float32)"
      ]
     },
     "execution_count": 62,
     "metadata": {},
     "output_type": "execute_result"
    }
   ],
   "source": [
    "prediction1 = model.predict(x_input2)\n",
    "prediction1"
   ]
  },
  {
   "cell_type": "code",
   "execution_count": null,
   "id": "68de1a70",
   "metadata": {},
   "outputs": [],
   "source": []
  },
  {
   "cell_type": "code",
   "execution_count": null,
   "id": "47e224b0",
   "metadata": {},
   "outputs": [],
   "source": []
  },
  {
   "cell_type": "code",
   "execution_count": null,
   "id": "949178cf",
   "metadata": {},
   "outputs": [],
   "source": []
  }
 ],
 "metadata": {
  "kernelspec": {
   "display_name": "Python 3 (ipykernel)",
   "language": "python",
   "name": "python3"
  },
  "language_info": {
   "codemirror_mode": {
    "name": "ipython",
    "version": 3
   },
   "file_extension": ".py",
   "mimetype": "text/x-python",
   "name": "python",
   "nbconvert_exporter": "python",
   "pygments_lexer": "ipython3",
   "version": "3.8.18"
  }
 },
 "nbformat": 4,
 "nbformat_minor": 5
}
